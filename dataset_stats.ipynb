{
 "cells": [
  {
   "cell_type": "code",
   "execution_count": 1,
   "id": "2c0ed9e7-f0b4-48ef-8698-895410790da8",
   "metadata": {},
   "outputs": [],
   "source": [
    "import torch\n",
    "import numpy as np \n",
    "import pandas as pd"
   ]
  },
  {
   "cell_type": "code",
   "execution_count": 2,
   "id": "33c1f209-f5ee-48fa-af3c-7784999e3d14",
   "metadata": {},
   "outputs": [],
   "source": [
    "from pathlib import Path"
   ]
  },
  {
   "cell_type": "code",
   "execution_count": 3,
   "id": "17cc8266-8fb1-4395-97a1-47b2cc064969",
   "metadata": {},
   "outputs": [],
   "source": [
    "import os\n",
    "import cv2"
   ]
  },
  {
   "cell_type": "code",
   "execution_count": 4,
   "id": "42b6ded9-c2a5-42e7-82cb-0ff0b0d35e3a",
   "metadata": {},
   "outputs": [],
   "source": [
    "class PediCXRDataset(torch.utils.data.Dataset):\n",
    "    def __init__(self,data_dir, phase, transform, merge_disease = True,seed = 42):\n",
    "        np.random.seed(seed)  # Reset the seed so all runs are the same.\n",
    "        # '/nfs/turbo/med-kayvan-lab/Projects/HeartFailure/Data/Raw/physionet.org/files/vindr-pcxr/1.0.0'\n",
    "        self.dir_root = data_dir\n",
    "        self.set_type = phase\n",
    "        self.transform = transform\n",
    "        self.label_columns = ['Brocho-pneumonia','Bronchiolitis','Bronchitis','CPAM',\n",
    "                              'Congenital emphysema','Diagphramatic hernia','Hyaline membrane disease','Lung tumor',\n",
    "                              'Mediastinal tumor','No finding','Other disease','Pleuro-pneumonia','Pneumonia','Situs inversus','Tuberculosis']\n",
    "\n",
    "        # generate labels\n",
    "        meta_file_name = f'image_labels_{self.set_type}.csv'\n",
    "        annotation_file_name = f'annotations_{self.set_type}.csv'\n",
    "        self.meta_df = pd.read_csv(os.path.join(self.dir_root,meta_file_name))\n",
    "        self.labels = self.meta_df[self.label_columns]\n",
    "        self.labels = self.labels.fillna(0)\n",
    "        self.labels = self.labels.replace(-1, 0)\n",
    "        \n",
    "        if merge_disease:\n",
    "            kept_labels = ['Brocho-pneumonia','Bronchiolitis','Bronchitis','Pneumonia','No finding'] \n",
    "            diseases_to_combine = list(set(self.label_columns) - set(kept_labels))\n",
    "            merged_labels = self.labels.copy()\n",
    "            merged_labels['Other diseases'] = 0\n",
    "            for disease in diseases_to_combine:\n",
    "                if disease in merged_labels.columns:\n",
    "                    merged_labels['Other diseases'] += merged_labels[disease]\n",
    "                    merged_labels[disease] = 0\n",
    "                else:\n",
    "                    continue\n",
    "            merged_labels.drop(columns=diseases_to_combine, inplace=True, errors='ignore')\n",
    "            merged_labels[merged_labels >= 1] = 1\n",
    "            self.labels = merged_labels\n",
    "\n",
    "        # generate annotations\n",
    "        self.anno_df = pd.read_csv(os.path.join(self.dir_root,annotation_file_name))\n",
    "        self.annotation = self.anno_df[['x_min', 'y_min', 'x_max', 'y_max']]\n",
    "        \n",
    "        \n",
    "        # \n",
    "        \n",
    "    def __len__(self):\n",
    "        return self.meta_df.shape[0]\n",
    "    \n",
    "    def get_img_path(self,idx):\n",
    "        row = self.meta_df.iloc[idx,:]\n",
    "        image_name = str((row['image_id'])) + '.jpg'\n",
    "        image_path = os.path.join(self.dir_root,self.set_type,image_name)\n",
    "        self.jpg_name = Path(image_path)\n",
    "        label = self.labels.iloc[idx,:]\n",
    "        PI = self.annotation.iloc[idx,:]\n",
    "        return self.jpg_name,label,PI        \n",
    "        \n",
    "\n",
    "    def __getitem__(self, idx):\n",
    "\n",
    "        sample = {}\n",
    "        sample[\"idx\"] = idx\n",
    "        \n",
    "        img_path,label,PI = self.get_img_path(idx)\n",
    "        sample['label'] = torch.tensor((list(label)),dtype=torch.long)\n",
    "        sample['PI'] = torch.tensor(list(np.round(PI,3)),dtype=torch.float32)\n",
    "        sample['img_path'] = img_path.__str__()\n",
    "\n",
    "        # single channel output renormliazed to [0, 255]\n",
    "        # img = imread(str(img_path), as_gray=True)\n",
    "        img = cv2.imread(sample['img_path'])\n",
    "        # img = cv2.resize(img, (224, 224))\n",
    "        # img = np.float32(img) / 255\n",
    "        if self.transform:\n",
    "            sample[\"img\"] = self.transform(img)\n",
    "        else: \n",
    "            sample[\"img\"] = img\n",
    "        return sample"
   ]
  },
  {
   "cell_type": "code",
   "execution_count": 5,
   "id": "209c1898-975e-4c85-8c93-b3c54c56a9f2",
   "metadata": {},
   "outputs": [],
   "source": [
    "ROOT = '/nfs/turbo/med-kayvan-lab/Projects/HeartFailure/Data/Processed/Yufeng/PediXR_Results'\n",
    "DATASET_DIR=\"/nfs/turbo/med-kayvan-lab/Projects/HeartFailure/Data/Raw/physionet.org/files/vindr-pcxr/1.0.0\" "
   ]
  },
  {
   "cell_type": "code",
   "execution_count": 6,
   "id": "cedcc303-da48-4271-9a07-f8f962585d85",
   "metadata": {},
   "outputs": [],
   "source": [
    "test_dataset = PediCXRDataset(data_dir=DATASET_DIR, phase='test', transform=None, merge_disease  = False)"
   ]
  },
  {
   "cell_type": "code",
   "execution_count": 7,
   "id": "02a800ac-41f3-4a95-9fbe-f3d25c3ef8bd",
   "metadata": {},
   "outputs": [
    {
     "data": {
      "text/plain": [
       "1397"
      ]
     },
     "execution_count": 7,
     "metadata": {},
     "output_type": "execute_result"
    }
   ],
   "source": [
    "len(test_dataset)"
   ]
  },
  {
   "cell_type": "code",
   "execution_count": 8,
   "id": "158f3b47-b279-49e7-8fa8-d785fe4f291d",
   "metadata": {},
   "outputs": [
    {
     "data": {
      "text/plain": [
       "(1692, 1255, 3)"
      ]
     },
     "execution_count": 8,
     "metadata": {},
     "output_type": "execute_result"
    }
   ],
   "source": [
    "test_dataset[0]['img'].shape"
   ]
  },
  {
   "cell_type": "code",
   "execution_count": 32,
   "id": "4abc3d95-dcd1-4c46-83ea-35e3d96089a3",
   "metadata": {},
   "outputs": [
    {
     "data": {
      "text/plain": [
       "Brocho-pneumonia             84.0\n",
       "Bronchiolitis                90.0\n",
       "Bronchitis                  174.0\n",
       "CPAM                          1.0\n",
       "Congenital emphysema          0.0\n",
       "Diagphramatic hernia          0.0\n",
       "Hyaline membrane disease      3.0\n",
       "Lung tumor                    0.0\n",
       "Mediastinal tumor             1.0\n",
       "No finding                  907.0\n",
       "Other disease                77.0\n",
       "Pleuro-pneumonia              0.0\n",
       "Pneumonia                    89.0\n",
       "Situs inversus                2.0\n",
       "Tuberculosis                  1.0\n",
       "dtype: float64"
      ]
     },
     "execution_count": 32,
     "metadata": {},
     "output_type": "execute_result"
    }
   ],
   "source": [
    "test_dataset.labels.sum()"
   ]
  },
  {
   "cell_type": "code",
   "execution_count": 29,
   "id": "506eeeea-42ce-45b5-aa10-a9993c90e909",
   "metadata": {},
   "outputs": [
    {
     "data": {
      "text/plain": [
       "Brocho-pneumonia     84.0\n",
       "Bronchiolitis        90.0\n",
       "Bronchitis          174.0\n",
       "No finding          907.0\n",
       "Pneumonia            89.0\n",
       "Other diseases       81.0\n",
       "dtype: float64"
      ]
     },
     "execution_count": 29,
     "metadata": {},
     "output_type": "execute_result"
    }
   ],
   "source": [
    "test_dataset = PediCXRDataset(data_dir=DATASET_DIR, phase='test', transform=None, merge_disease  = True)\n",
    "test_dataset.labels.sum()"
   ]
  },
  {
   "cell_type": "code",
   "execution_count": 27,
   "id": "1a8aa623-bb30-462f-a88a-d9c2ae008f79",
   "metadata": {},
   "outputs": [
    {
     "data": {
      "text/plain": [
       "Brocho-pneumonia     545.0\n",
       "Bronchiolitis        497.0\n",
       "Bronchitis           842.0\n",
       "No finding          5143.0\n",
       "Pneumonia            392.0\n",
       "Other diseases       463.0\n",
       "dtype: float64"
      ]
     },
     "execution_count": 27,
     "metadata": {},
     "output_type": "execute_result"
    }
   ],
   "source": [
    "train_dataset = PediCXRDataset(data_dir=DATASET_DIR, phase='train', transform=None, merge_disease  = True)\n",
    "train_dataset.labels.sum()"
   ]
  },
  {
   "cell_type": "code",
   "execution_count": 17,
   "id": "5f484117-9e7d-4cf4-a00d-704129bd084d",
   "metadata": {},
   "outputs": [
    {
     "data": {
      "text/plain": [
       "Brocho-pneumonia     545.0\n",
       "Bronchiolitis        497.0\n",
       "Bronchitis           842.0\n",
       "No finding          5143.0\n",
       "Pneumonia            392.0\n",
       "Other diseases       463.0\n",
       "dtype: float64"
      ]
     },
     "execution_count": 17,
     "metadata": {},
     "output_type": "execute_result"
    }
   ],
   "source": [
    "train_dataset = PediCXRDataset(data_dir=DATASET_DIR, phase='train', transform=None, merge_disease  = True)\n",
    "train_dataset.labels.sum()"
   ]
  },
  {
   "cell_type": "markdown",
   "id": "72b200a7-3980-4f17-92cc-b6a1fa40a186",
   "metadata": {},
   "source": [
    "### calcualte other model stats"
   ]
  },
  {
   "cell_type": "code",
   "execution_count": 9,
   "id": "3e5b948f-f7bd-47c5-80fb-0706695315bf",
   "metadata": {},
   "outputs": [],
   "source": [
    "from sklearn.metrics import multilabel_confusion_matrix,confusion_matrix"
   ]
  },
  {
   "cell_type": "code",
   "execution_count": 10,
   "id": "dbac43e3-7480-4e88-bcd1-e35296598c3a",
   "metadata": {},
   "outputs": [],
   "source": [
    "from sklearn.preprocessing import OneHotEncoder"
   ]
  },
  {
   "cell_type": "code",
   "execution_count": 11,
   "id": "606413ec-7dd9-4262-a27a-f1d943ce4970",
   "metadata": {},
   "outputs": [],
   "source": [
    "import matplotlib.pyplot as plt"
   ]
  },
  {
   "cell_type": "code",
   "execution_count": 12,
   "id": "c718df41-c8bb-4d36-ba61-5e0092db1782",
   "metadata": {},
   "outputs": [],
   "source": [
    "ROOT = '/nfs/turbo/med-kayvan-lab/Projects/HeartFailure/Data/Processed/Yufeng/PediXR_Results'"
   ]
  },
  {
   "cell_type": "code",
   "execution_count": 13,
   "id": "24d704f1-f375-48bd-9e5b-ab52fb095b43",
   "metadata": {},
   "outputs": [],
   "source": [
    "m_name = 'vit-b_CXR_0.5M_mae_CheXpert'\n",
    "SAVE_DIR=os.path.join(ROOT,m_name)"
   ]
  },
  {
   "cell_type": "code",
   "execution_count": 14,
   "id": "a034948d-529c-433f-9ebc-7eaa9e9a6b1d",
   "metadata": {},
   "outputs": [],
   "source": [
    "nb_classes = 6"
   ]
  },
  {
   "cell_type": "code",
   "execution_count": 15,
   "id": "1ceaee9d-30c6-4a2c-9b23-3f9d8e186a51",
   "metadata": {},
   "outputs": [],
   "source": [
    "pred = np.load(os.path.join(SAVE_DIR,'y_pred.npy'))\n",
    "y_test = np.load(os.path.join(SAVE_DIR,'y_gt.npy'))"
   ]
  },
  {
   "cell_type": "code",
   "execution_count": 47,
   "id": "0a20cd79-a494-4f69-bae6-7cf11e52103a",
   "metadata": {},
   "outputs": [],
   "source": [
    "# pred_index  = np.argmax(pred,axis = 1).reshape(-1)\n",
    "# y_pred = np.eye(nb_classes)[pred_index]"
   ]
  },
  {
   "cell_type": "code",
   "execution_count": 97,
   "id": "526e2f33-e027-4422-bd5d-f2d943d182c9",
   "metadata": {},
   "outputs": [],
   "source": [
    "y_pred = pred>0.4"
   ]
  },
  {
   "cell_type": "code",
   "execution_count": 98,
   "id": "177c4f40-c29b-4a12-832a-ea3fa5014820",
   "metadata": {},
   "outputs": [],
   "source": [
    "# f, axes = plt.subplots(2, 3, figsize=(25, 15))\n",
    "# axes = axes.ravel()\n",
    "# for i in range(6):\n",
    "#     disp = ConfusionMatrixDisplay(confusion_matrix(y_test[:, i],\n",
    "#                                                    y_pred[:, i]),\n",
    "#                                   display_labels=['N', 'P'])\n",
    "#     disp.plot(ax=axes[i], values_format='.4g')\n",
    "#     disp.ax_.set_title(f'{list(train_dataset.labels.columns)[i]}')\n",
    "#     if i != 4:\n",
    "#         disp.ax_.set_xlabel('')\n",
    "#     if i%3!=0:\n",
    "#         disp.ax_.set_ylabel('')\n",
    "#     disp.im_.colorbar.remove()\n",
    "\n",
    "# plt.subplots_adjust(wspace=0.10, hspace=0.1)\n",
    "# f.colorbar(disp.im_, ax=axes)\n",
    "# plt.show()"
   ]
  },
  {
   "cell_type": "code",
   "execution_count": 21,
   "id": "0ea04e7b-cd6d-4284-8245-e120dac102a4",
   "metadata": {},
   "outputs": [
    {
     "name": "stdout",
     "output_type": "stream",
     "text": [
      "Brocho-pneumonia, f1 score is 0.2944; precision is 0.1871 and recall is 0.6905 and FPR is 0.1919 and specicity is 0.8081.\n",
      "Bronchiolitis, f1 score is 0.2153; precision is 0.1372 and recall is 0.5000 and FPR is 0.2165 and specicity is 0.7835.\n",
      "Bronchitis, f1 score is 0.3290; precision is 0.2128 and recall is 0.7241 and FPR is 0.3810 and specicity is 0.6190.\n",
      "No finding, f1 score is 0.7984; precision is 0.6684 and recall is 0.9912 and FPR is 0.9102 and specicity is 0.0898.\n",
      "Pneumonia, f1 score is 0.4264; precision is 0.3254 and recall is 0.6180 and FPR is 0.0872 and specicity is 0.9128.\n",
      "Other diseases, f1 score is 0.1946; precision is 0.1420 and recall is 0.3086 and FPR is 0.1147 and specicity is 0.8853.\n"
     ]
    }
   ],
   "source": [
    "y_pred = pred>0.1\n",
    "spec = 0\n",
    "prec = 0\n",
    "f = 0\n",
    "rec = 0\n",
    "fpr_ls = 0\n",
    "for i in range(6):\n",
    "    tn, fp, fn, tp = confusion_matrix(y_test[:, i],y_pred[:, i]).ravel()\n",
    "    precision = tp / (tp+fp)\n",
    "    recall = tp/ (tp+fn)\n",
    "    f1 = (precision*recall)*2/(precision+recall)\n",
    "    specicity = tn /(tn + fp)\n",
    "    fpr = fp/(fp+tn)\n",
    "    fpr_ls += fpr\n",
    "    rec +=recall\n",
    "    f += f1\n",
    "    prec += precision\n",
    "    spec += specicity\n",
    "    print(f'{list(train_dataset.labels.columns)[i]}, f1 score is {f1:.4f}; precision is {precision:.4f} and recall is {recall:.4f} and FPR is {fpr:.4f} and specicity is {specicity:.4f}.')\n",
    "                                     "
   ]
  },
  {
   "cell_type": "code",
   "execution_count": 135,
   "id": "bc25816b-87eb-4215-a17e-4890ff8f2ceb",
   "metadata": {},
   "outputs": [
    {
     "name": "stdout",
     "output_type": "stream",
     "text": [
      "mf1 score is 0.3763; mprecision is 0.2788 and mrecall is 0.6387 and mspecificity is 0.3169.\n"
     ]
    }
   ],
   "source": [
    "print(f'mf1 score is {f/6:.4f}; mprecision is {prec /6:.4f} and mrecall is {rec/6:.4f} and mspecificity is {spec/6:.4f}.')"
   ]
  },
  {
   "cell_type": "code",
   "execution_count": 130,
   "id": "456138dd-cfa2-45df-a25c-069215023b88",
   "metadata": {},
   "outputs": [
    {
     "data": {
      "image/png": "[encoded data removed]",
      "text/plain": [
       "<Figure size 300x300 with 1 Axes>"
      ]
     },
     "metadata": {},
     "output_type": "display_data"
    },
    {
     "data": {
      "image/png": "[encoded data removed]",
      "text/plain": [
       "<Figure size 300x300 with 1 Axes>"
      ]
     },
     "metadata": {},
     "output_type": "display_data"
    },
    {
     "data": {
      "image/png": "[encoded data removed]",
      "text/plain": [
       "<Figure size 300x300 with 1 Axes>"
      ]
     },
     "metadata": {},
     "output_type": "display_data"
    },
    {
     "data": {
      "image/png": "[encoded data removed]",
      "text/plain": [
       "<Figure size 300x300 with 1 Axes>"
      ]
     },
     "metadata": {},
     "output_type": "display_data"
    },
    {
     "data": {
      "image/png": "[encoded data removed]",
      "text/plain": [
       "<Figure size 300x300 with 1 Axes>"
      ]
     },
     "metadata": {},
     "output_type": "display_data"
    },
    {
     "data": {
      "image/png": "[encoded data removed]",
      "text/plain": [
       "<Figure size 300x300 with 1 Axes>"
      ]
     },
     "metadata": {},
     "output_type": "display_data"
    }
   ],
   "source": [
    "# f, axes = plt.subplots(2, 3, figsize=(15, 10))\n",
    "# axes = axes.ravel()\n",
    "for i in range(6):\n",
    "    f, ax = plt.subplots(figsize=(3, 3))\n",
    "    disp = ConfusionMatrixDisplay(confusion_matrix(y_test[:, i],\n",
    "                                                   y_pred[:, i]),\n",
    "                                  display_labels=['N', 'P'])\n",
    "    disp.plot(ax=ax, values_format='.4g')\n",
    "    disp.ax_.set_title(f'{list(train_dataset.labels.columns)[i]}')\n",
    "    disp.ax_.set_xlabel('')\n",
    "    disp.ax_.set_ylabel('')\n",
    "    disp.im_.colorbar.remove()\n",
    "    plt.savefig(f'./Figs/confusionmat_{list(train_dataset.labels.columns)[i]}.pdf',dpi=300,bbox_inches='tight')\n",
    "    # plt.show()\n",
    "# plt.subplots_adjust(wspace=0.10, hspace=0.1)\n",
    "# f.colorbar(disp.im_, ax=axes)\n",
    "# plt.savefig('./Figs/confusionmat..pdf',bbox_inches='tight')\n",
    "# "
   ]
  },
  {
   "cell_type": "code",
   "execution_count": null,
   "id": "3b02cd9c-c7cb-46e7-859d-a62b0376b4b0",
   "metadata": {},
   "outputs": [],
   "source": []
  }
 ],
 "metadata": {
  "kernelspec": {
   "display_name": "torchsrh",
   "language": "python",
   "name": "torchsrh"
  },
  "language_info": {
   "codemirror_mode": {
    "name": "ipython",
    "version": 3
   },
   "file_extension": ".py",
   "mimetype": "text/x-python",
   "name": "python",
   "nbconvert_exporter": "python",
   "pygments_lexer": "ipython3",
   "version": "3.11.5"
  }
 },
 "nbformat": 4,
 "nbformat_minor": 5
}
